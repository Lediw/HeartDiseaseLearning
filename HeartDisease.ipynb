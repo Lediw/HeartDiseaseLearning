{
 "cells": [
  {
   "cell_type": "code",
   "execution_count": 5,
   "id": "9664b69f-af10-4b91-a09b-3af27e28c906",
   "metadata": {},
   "outputs": [],
   "source": [
    "import numpy as np\n",
    "import pandas as pd\n",
    "import matplotlib.pyplot as plt\n",
    "from sklearn.model_selection import train_test_split, GridSearchCV\n",
    "from sklearn.preprocessing import MinMaxScaler, OneHotEncoder\n",
    "from sklearn import linear_model\n",
    "from sklearn.tree import DecisionTreeClassifier\n",
    "from sklearn import tree\n",
    "from sklearn.neighbors import KNeighborsClassifier\n",
    "from sklearn import svm\n",
    "from sklearn.inspection import permutation_importance\n",
    "from sklearn.model_selection import cross_val_score\n",
    "from sklearn.metrics import (confusion_matrix, precision_score, recall_score,\n",
    "                             accuracy_score, roc_auc_score, RocCurveDisplay, f1_score)\n",
    "from sklearn.ensemble import RandomForestClassifier\n",
    "from imblearn.over_sampling import RandomOverSampler\n",
    "import pickle"
   ]
  },
  {
   "cell_type": "code",
   "execution_count": 6,
   "id": "ed38f447-8a03-4971-9df1-fd0092e8db58",
   "metadata": {},
   "outputs": [
    {
     "name": "stderr",
     "output_type": "stream",
     "text": [
      "C:\\Users\\lediw\\AppData\\Local\\Temp\\ipykernel_35960\\1797349487.py:3: FutureWarning: Downcasting behavior in `replace` is deprecated and will be removed in a future version. To retain the old behavior, explicitly call `result.infer_objects(copy=False)`. To opt-in to the future behavior, set `pd.set_option('future.no_silent_downcasting', True)`\n",
      "  df = df.replace({'Yes': 1, 'No': 0, 'Yes (during pregnancy)':1, 'No, borderline diabetes':0, 'Female': 1, 'Male': 0}).drop(columns=['Race', 'GenHealth','PhysicalHealth','MentalHealth'])\n"
     ]
    },
    {
     "name": "stdout",
     "output_type": "stream",
     "text": [
      "        HeartDisease    BMI  Smoking  AlcoholDrinking  Stroke  DiffWalking  \\\n",
      "301988             0  24.30        0                0       0            0   \n",
      "223127             1  23.78        1                0       1            1   \n",
      "216797             0  20.60        1                0       0            0   \n",
      "234217             0  28.29        1                0       0            0   \n",
      "30822              1  33.00        0                0       0            0   \n",
      "\n",
      "        Sex  AgeCategory  Diabetic  PhysicalActivity  SleepTime  Asthma  \\\n",
      "301988    1           40         0                 1        7.0       0   \n",
      "223127    1           80         1                 0        7.0       0   \n",
      "216797    1           70         0                 1        7.0       0   \n",
      "234217    1           25         0                 0        4.0       0   \n",
      "30822     0           75         1                 1        8.0       0   \n",
      "\n",
      "        KidneyDisease  SkinCancer  \n",
      "301988              0           0  \n",
      "223127              0           0  \n",
      "216797              0           0  \n",
      "234217              0           0  \n",
      "30822               0           0  \n",
      "(array([0, 1]), array([29250,  2730]))\n"
     ]
    }
   ],
   "source": [
    "# Read data with raw preprocessing\n",
    "df = pd.read_csv('heart_disease.csv')\n",
    "df = df.replace({'Yes': 1, 'No': 0, 'Yes (during pregnancy)':1, 'No, borderline diabetes':0, 'Female': 1, 'Male': 0}).drop(columns=['Race', 'GenHealth','PhysicalHealth','MentalHealth'])\n",
    "df['AgeCategory'] = df['AgeCategory'].apply(lambda x: x[:2]).astype(int) \n",
    "df = df.sample(frac=0.1, random_state=1)\n",
    "print(df.head())\n",
    "print(np.unique(df['HeartDisease'], return_counts=True))"
   ]
  },
  {
   "cell_type": "code",
   "execution_count": 7,
   "id": "6b914824-c3e0-4497-a5f0-d78d31fb8409",
   "metadata": {},
   "outputs": [],
   "source": [
    "# Data Standardization, Spilit & Oversample\n",
    "feature = df.drop(columns=['HeartDisease'])\n",
    "X = feature.values\n",
    "y = df['HeartDisease'] \n",
    "\n",
    "X_train, X_test, y_train, y_test = train_test_split(X, y, test_size=.2, random_state=1, stratify=y)\n",
    "\n",
    "scaler = MinMaxScaler()\n",
    "X_train = scaler.fit_transform(X_train)\n",
    "X_test = scaler.transform(X_test)\n",
    "\n",
    "ros = RandomOverSampler(random_state=1)\n",
    "X_train, y_train = ros.fit_resample(X_train, y_train)"
   ]
  },
  {
   "cell_type": "code",
   "execution_count": 8,
   "id": "8ff82413-74a6-4745-8cbc-d65a5e1452e3",
   "metadata": {},
   "outputs": [
    {
     "name": "stdout",
     "output_type": "stream",
     "text": [
      "Current model = SVC(), Best score for this model = 0.802, Parameters = {'C': 5000, 'kernel': 'rbf'}\n",
      "Current model = LogisticRegression(), Best score for this model = 0.74, Parameters = {'C': 100, 'max_iter': 1000}\n",
      "Current model = RandomForestClassifier(), Best score for this model = 0.965, Parameters = {'max_depth': 50, 'n_estimators': 10}\n",
      "Current model = KNeighborsClassifier(), Best score for this model = 0.947, Parameters = {'n_neighbors': 1}\n",
      "\n",
      "Best model = RandomForestClassifier(), Best score = 0.965, Parameters = {'max_depth': 50, 'n_estimators': 10}\n"
     ]
    },
    {
     "name": "stderr",
     "output_type": "stream",
     "text": [
      "C:\\Users\\lediw\\miniconda3\\Lib\\site-packages\\numpy\\ma\\core.py:2881: RuntimeWarning: invalid value encountered in cast\n",
      "  _data = np.array(data, dtype=dtype, copy=copy,\n"
     ]
    }
   ],
   "source": [
    "# GridSearch training\n",
    "models = [svm.SVC(), linear_model.LogisticRegression(), RandomForestClassifier(), KNeighborsClassifier()]\n",
    "hyperpas = [{'kernel':['linear','rbf'], 'C':[0.01, 1, 100, 1000, 5000]},\n",
    "            {'max_iter':[1000, 5000, 10000], 'C':[0.01, 1, 100, 1000, 5000]},\n",
    "            {'n_estimators':[1,10,30,50,100], 'max_depth':[1, 3, 5, 7, 10, 20, 50]},\n",
    "            {'n_neighbors':[1, 2, 3, 4, 5, 10, 20, 50]}]\n",
    "best_index = -1\n",
    "best_score = -np.inf\n",
    "best_clf = None\n",
    "for i in range(4):\n",
    "    curr_model = models[i]\n",
    "    curr_clf = GridSearchCV(curr_model, hyperpas[i], scoring='f1',n_jobs=16, cv=5)\n",
    "    curr_clf.fit(X_train, y_train)\n",
    "    curr_score = curr_clf.best_score_\n",
    "    if curr_score > best_score:\n",
    "        best_index = i\n",
    "        best_score = curr_score\n",
    "        best_clf = curr_clf\n",
    "    print(f'Current model = {curr_model}, Best score for this model = {curr_score:.3}, Parameters = {curr_clf.best_params_}')\n",
    "print(f'\\nBest model = {models[best_index]}, Best score = {best_score:.3}, Parameters = {best_clf.best_params_}')"
   ]
  },
  {
   "cell_type": "code",
   "execution_count": 9,
   "id": "9b064af6-8f2b-450b-9a81-56be4e5d0516",
   "metadata": {},
   "outputs": [
    {
     "name": "stdout",
     "output_type": "stream",
     "text": [
      "Accuracy: 0.878, Precision: 0.237, Recall: 0.194, F1: 0.213, AUC: 0.568\n"
     ]
    }
   ],
   "source": [
    "# Check performance on testing dataset\n",
    "y_hat = best_clf.predict(X_test)\n",
    "print(f'Accuracy: {accuracy_score(y_test, y_hat):.3}, Precision: {precision_score(y_test, y_hat):.3}, Recall: {recall_score(y_test, y_hat):.3}, F1: {f1_score(y_test, y_hat):.3}, AUC: {roc_auc_score(y_test, y_hat):.3}')"
   ]
  },
  {
   "cell_type": "code",
   "execution_count": 10,
   "id": "a9d78a8b-eea4-4b54-a402-323d41bffd38",
   "metadata": {},
   "outputs": [
    {
     "data": {
      "text/html": [
       "<div>\n",
       "<style scoped>\n",
       "    .dataframe tbody tr th:only-of-type {\n",
       "        vertical-align: middle;\n",
       "    }\n",
       "\n",
       "    .dataframe tbody tr th {\n",
       "        vertical-align: top;\n",
       "    }\n",
       "\n",
       "    .dataframe thead th {\n",
       "        text-align: right;\n",
       "    }\n",
       "</style>\n",
       "<table border=\"1\" class=\"dataframe\">\n",
       "  <thead>\n",
       "    <tr style=\"text-align: right;\">\n",
       "      <th></th>\n",
       "      <th>Feature</th>\n",
       "      <th>Importance</th>\n",
       "    </tr>\n",
       "  </thead>\n",
       "  <tbody>\n",
       "    <tr>\n",
       "      <th>6</th>\n",
       "      <td>AgeCategory</td>\n",
       "      <td>0.080900</td>\n",
       "    </tr>\n",
       "    <tr>\n",
       "      <th>3</th>\n",
       "      <td>Stroke</td>\n",
       "      <td>0.035187</td>\n",
       "    </tr>\n",
       "    <tr>\n",
       "      <th>4</th>\n",
       "      <td>DiffWalking</td>\n",
       "      <td>0.034850</td>\n",
       "    </tr>\n",
       "    <tr>\n",
       "      <th>7</th>\n",
       "      <td>Diabetic</td>\n",
       "      <td>0.024333</td>\n",
       "    </tr>\n",
       "    <tr>\n",
       "      <th>11</th>\n",
       "      <td>KidneyDisease</td>\n",
       "      <td>0.019632</td>\n",
       "    </tr>\n",
       "    <tr>\n",
       "      <th>8</th>\n",
       "      <td>PhysicalActivity</td>\n",
       "      <td>0.018288</td>\n",
       "    </tr>\n",
       "    <tr>\n",
       "      <th>5</th>\n",
       "      <td>Sex</td>\n",
       "      <td>0.017351</td>\n",
       "    </tr>\n",
       "    <tr>\n",
       "      <th>2</th>\n",
       "      <td>AlcoholDrinking</td>\n",
       "      <td>0.006360</td>\n",
       "    </tr>\n",
       "    <tr>\n",
       "      <th>1</th>\n",
       "      <td>Smoking</td>\n",
       "      <td>0.005748</td>\n",
       "    </tr>\n",
       "    <tr>\n",
       "      <th>12</th>\n",
       "      <td>SkinCancer</td>\n",
       "      <td>0.001333</td>\n",
       "    </tr>\n",
       "    <tr>\n",
       "      <th>10</th>\n",
       "      <td>Asthma</td>\n",
       "      <td>0.000947</td>\n",
       "    </tr>\n",
       "    <tr>\n",
       "      <th>9</th>\n",
       "      <td>SleepTime</td>\n",
       "      <td>0.000718</td>\n",
       "    </tr>\n",
       "    <tr>\n",
       "      <th>0</th>\n",
       "      <td>BMI</td>\n",
       "      <td>-0.002610</td>\n",
       "    </tr>\n",
       "  </tbody>\n",
       "</table>\n",
       "</div>"
      ],
      "text/plain": [
       "             Feature  Importance\n",
       "6        AgeCategory    0.080900\n",
       "3             Stroke    0.035187\n",
       "4        DiffWalking    0.034850\n",
       "7           Diabetic    0.024333\n",
       "11     KidneyDisease    0.019632\n",
       "8   PhysicalActivity    0.018288\n",
       "5                Sex    0.017351\n",
       "2    AlcoholDrinking    0.006360\n",
       "1            Smoking    0.005748\n",
       "12        SkinCancer    0.001333\n",
       "10            Asthma    0.000947\n",
       "9          SleepTime    0.000718\n",
       "0                BMI   -0.002610"
      ]
     },
     "execution_count": 10,
     "metadata": {},
     "output_type": "execute_result"
    }
   ],
   "source": [
    "# Display feature importance\n",
    "feature_importance = permutation_importance(best_clf, X_test, y_test, scoring='f1', random_state=1)\n",
    "clf_feature = pd.DataFrame({'Feature':feature.columns,'Importance':feature_importance.importances_mean})\n",
    "clf_feature = clf_feature.sort_values(by='Importance',ascending=False)\n",
    "clf_feature"
   ]
  },
  {
   "cell_type": "code",
   "execution_count": 11,
   "id": "6db5c5ee-35dc-46c9-b1e7-895255d5239a",
   "metadata": {},
   "outputs": [],
   "source": [
    "# Save the best model locally\n",
    "filename = 'pretrained_model.sav'\n",
    "pickle.dump(best_clf, open(filename, 'wb'))"
   ]
  },
  {
   "cell_type": "code",
   "execution_count": 12,
   "id": "58fcd0c9-87d1-4010-bf66-b127780a88ef",
   "metadata": {},
   "outputs": [],
   "source": [
    "# Save the scaler\n",
    "with open('scaler.sav', 'wb') as f:\n",
    "    pickle.dump(scaler, f)"
   ]
  }
 ],
 "metadata": {
  "kernelspec": {
   "display_name": "Python 3 (ipykernel)",
   "language": "python",
   "name": "python3"
  },
  "language_info": {
   "codemirror_mode": {
    "name": "ipython",
    "version": 3
   },
   "file_extension": ".py",
   "mimetype": "text/x-python",
   "name": "python",
   "nbconvert_exporter": "python",
   "pygments_lexer": "ipython3",
   "version": "3.12.4"
  }
 },
 "nbformat": 4,
 "nbformat_minor": 5
}
